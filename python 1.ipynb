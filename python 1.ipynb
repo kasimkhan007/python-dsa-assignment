{
  "nbformat": 4,
  "nbformat_minor": 0,
  "metadata": {
    "colab": {
      "provenance": []
    },
    "kernelspec": {
      "name": "python3",
      "display_name": "Python 3"
    },
    "language_info": {
      "name": "python"
    }
  },
  "cells": [
    {
      "cell_type": "code",
      "execution_count": null,
      "metadata": {
        "colab": {
          "base_uri": "https://localhost:8080/"
        },
        "id": "qoIrZ6jGU7sv",
        "outputId": "12dc6317-0f63-462d-8eb5-73c385a55e7d"
      },
      "outputs": [
        {
          "output_type": "stream",
          "name": "stdout",
          "text": [
            "enter the radius of circle3\n",
            "area of circle= 28.259999999999998\n"
          ]
        }
      ],
      "source": [
        "n1=int(input('enter the radius of circle'))\n",
        "n2=3.14*n1*n1\n",
        "print('area of circle=',n2)"
      ]
    },
    {
      "cell_type": "code",
      "source": [
        "n1=(input('enter the name'))\n",
        "n2=int(input('enter the age'))\n",
        "n3=int(input('enter the mark'))\n",
        "print('name=',n1)\n",
        "print('age=',n2)\n",
        "print('number=',n3)"
      ],
      "metadata": {
        "colab": {
          "base_uri": "https://localhost:8080/"
        },
        "id": "BWXFvIeUV8_k",
        "outputId": "164fd810-2583-4e20-8c28-c6bd9c206dd5"
      },
      "execution_count": 1,
      "outputs": [
        {
          "output_type": "stream",
          "name": "stdout",
          "text": [
            "enter the namekasim khan\n",
            "enter the age22\n",
            "enter the mark77\n",
            "name= kasim khan\n",
            "age= 22\n",
            "number= 77\n"
          ]
        }
      ]
    },
    {
      "cell_type": "code",
      "source": [
        "numbers = [12, 3, 47, 10]\n",
        "largest = numbers[0]\n",
        "\n",
        "for number in numbers:\n",
        "  if number > largest:\n",
        "    largest = number\n",
        "\n",
        "print(f\"{largest} is the largest number\")"
      ],
      "metadata": {
        "colab": {
          "base_uri": "https://localhost:8080/"
        },
        "id": "vXDZM5RwYhM_",
        "outputId": "89e59c2d-f6f3-4255-edb0-6857abc640a6"
      },
      "execution_count": null,
      "outputs": [
        {
          "output_type": "stream",
          "name": "stdout",
          "text": [
            "47 is the largest number\n"
          ]
        }
      ]
    },
    {
      "cell_type": "code",
      "source": [
        "sum=0\n",
        "for i in range(1,11):\n",
        "  sum=i+(i-1)\n",
        "  print(f\"current number:{i} previous number:{i-1} sum:{sum}\")"
      ],
      "metadata": {
        "colab": {
          "base_uri": "https://localhost:8080/"
        },
        "id": "y8R43AcJZvq-",
        "outputId": "f927fc0d-1d90-407d-d970-d3a81f3777a6"
      },
      "execution_count": null,
      "outputs": [
        {
          "output_type": "stream",
          "name": "stdout",
          "text": [
            "current number:1 previous number:0 sum:1\n",
            "current number:2 previous number:1 sum:3\n",
            "current number:3 previous number:2 sum:5\n",
            "current number:4 previous number:3 sum:7\n",
            "current number:5 previous number:4 sum:9\n",
            "current number:6 previous number:5 sum:11\n",
            "current number:7 previous number:6 sum:13\n",
            "current number:8 previous number:7 sum:15\n",
            "current number:9 previous number:8 sum:17\n",
            "current number:10 previous number:9 sum:19\n"
          ]
        }
      ]
    },
    {
      "cell_type": "code",
      "source": [
        " num=[10, 20,33,46,55]\n",
        " for i in num:\n",
        "   if i%5==0:\n",
        "     print(i,end=\",\")"
      ],
      "metadata": {
        "id": "hd7mFG33ag88",
        "colab": {
          "base_uri": "https://localhost:8080/"
        },
        "outputId": "9f028ef1-ef2b-42b3-9168-05e28c263b97"
      },
      "execution_count": null,
      "outputs": [
        {
          "output_type": "stream",
          "name": "stdout",
          "text": [
            "10,20,55,"
          ]
        }
      ]
    },
    {
      "cell_type": "code",
      "source": [
        "n1=int(input('enter the number'))\n",
        "if n1>1:\n",
        "  for i in range(2,n1):\n",
        "    if n1%i==0:\n",
        "      print('not prime')\n",
        "      break\n",
        "  else:\n",
        "    print('prime')"
      ],
      "metadata": {
        "colab": {
          "base_uri": "https://localhost:8080/"
        },
        "id": "N60fQnW_dJ12",
        "outputId": "48cb9da2-a652-43c4-cba3-efd91d6e8b2b"
      },
      "execution_count": null,
      "outputs": [
        {
          "output_type": "stream",
          "name": "stdout",
          "text": [
            "enter the number3\n",
            "prime\n"
          ]
        }
      ]
    },
    {
      "cell_type": "code",
      "source": [
        "n1=[10,40,30,70]\n",
        "rever=[]\n",
        "for i in range(len(n1)-1,-1,-1):\n",
        "  rever.append(n1[i])\n",
        "print(rever)\n"
      ],
      "metadata": {
        "colab": {
          "base_uri": "https://localhost:8080/"
        },
        "id": "lwNJ83JzeSeo",
        "outputId": "22e94f5b-f203-4125-e6ce-a9c29633881f"
      },
      "execution_count": null,
      "outputs": [
        {
          "output_type": "stream",
          "name": "stdout",
          "text": [
            "[70, 30, 40, 10]\n"
          ]
        }
      ]
    },
    {
      "cell_type": "code",
      "source": [
        "for i in range(1,5):\n",
        "  print(\"*\"*i)"
      ],
      "metadata": {
        "colab": {
          "base_uri": "https://localhost:8080/"
        },
        "id": "d8r1DDX1fq8L",
        "outputId": "b222a304-81c8-4f6f-b454-49ad4be51f37"
      },
      "execution_count": null,
      "outputs": [
        {
          "output_type": "stream",
          "name": "stdout",
          "text": [
            "*\n",
            "**\n",
            "***\n",
            "****\n"
          ]
        }
      ]
    },
    {
      "cell_type": "code",
      "source": [
        "n1=[34,12,7]\n",
        "print(max(n1))"
      ],
      "metadata": {
        "colab": {
          "base_uri": "https://localhost:8080/"
        },
        "id": "IbW9yy-liSJf",
        "outputId": "78e2fa74-ab72-44a9-aab0-636b9e61d3a2"
      },
      "execution_count": null,
      "outputs": [
        {
          "output_type": "stream",
          "name": "stdout",
          "text": [
            "34\n"
          ]
        }
      ]
    },
    {
      "cell_type": "code",
      "source": [
        "n=6\n",
        "for i in range(1,n):\n",
        "  for j in range(i):\n",
        "    print(\"*\",end=\" \")\n",
        "  print()\n",
        "for i in range(n-2,0,-1):\n",
        "  for j in range(i):\n",
        "    print(\"*\",end=\" \")\n",
        "  print()\n",
        "\n"
      ],
      "metadata": {
        "colab": {
          "base_uri": "https://localhost:8080/"
        },
        "id": "_Y-T_g-VjD90",
        "outputId": "77f58107-85c3-4208-9846-d61f899c5e40"
      },
      "execution_count": null,
      "outputs": [
        {
          "output_type": "stream",
          "name": "stdout",
          "text": [
            "* \n",
            "* * \n",
            "* * * \n",
            "* * * * \n",
            "* * * * * \n",
            "* * * * \n",
            "* * * \n",
            "* * \n",
            "* \n"
          ]
        }
      ]
    },
    {
      "cell_type": "code",
      "source": [],
      "metadata": {
        "id": "Hn3DrQVGkJZI"
      },
      "execution_count": null,
      "outputs": []
    }
  ]
}