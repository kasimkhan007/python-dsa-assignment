{
  "nbformat": 4,
  "nbformat_minor": 0,
  "metadata": {
    "colab": {
      "provenance": []
    },
    "kernelspec": {
      "name": "python3",
      "display_name": "Python 3"
    },
    "language_info": {
      "name": "python"
    }
  },
  "cells": [
    {
      "cell_type": "code",
      "execution_count": 1,
      "metadata": {
        "colab": {
          "base_uri": "https://localhost:8080/"
        },
        "id": "WAi9JgSYnCDD",
        "outputId": "955e3c63-92a3-4a66-827f-7494573e7e66"
      },
      "outputs": [
        {
          "output_type": "stream",
          "name": "stdout",
          "text": [
            "Enter a string value: kasim\n",
            "k=1, a=1, s=1, i=1, m=1, "
          ]
        }
      ],
      "source": [
        "\n",
        "input_string = input(\"Enter a string value: \")\n",
        "char_counts = {}\n",
        "\n",
        "for char in input_string:\n",
        "    if char in char_counts:\n",
        "        char_counts[char] += 1\n",
        "    else:\n",
        "        char_counts[char] = 1\n",
        "for char, count in char_counts.items():\n",
        "    print(f\"{char}={count}\", end=\", \")"
      ]
    },
    {
      "cell_type": "code",
      "source": [
        "def maxim(n1, n2, n3):\n",
        "  return max(n1, n2, n3)\n",
        "\n",
        "\n",
        "result = maxim(34, 12, 7)\n",
        "print(\"max value:\",result)\n"
      ],
      "metadata": {
        "colab": {
          "base_uri": "https://localhost:8080/"
        },
        "id": "Rj6GhTtwn4Wy",
        "outputId": "549402ef-6546-42b4-9951-edfb73fe8f78"
      },
      "execution_count": 16,
      "outputs": [
        {
          "output_type": "stream",
          "name": "stdout",
          "text": [
            "max value: 34\n"
          ]
        }
      ]
    },
    {
      "cell_type": "code",
      "source": [
        "def exponent(base, exp):\n",
        "  return base ** exp\n",
        "base = int(input(\"Enter the base: \"))\n",
        "exp = int(input(\"Enter the exponent: \"))\n",
        "result = exponent(base, exp)\n",
        "print(result)"
      ],
      "metadata": {
        "colab": {
          "base_uri": "https://localhost:8080/"
        },
        "id": "pY-LFIWVpYP2",
        "outputId": "4b47c787-bd36-497a-b49f-36a2f3cefe97"
      },
      "execution_count": 17,
      "outputs": [
        {
          "output_type": "stream",
          "name": "stdout",
          "text": [
            "Enter the base: 2\n",
            "Enter the exponent: 3\n",
            "8\n"
          ]
        }
      ]
    },
    {
      "cell_type": "code",
      "source": [
        "def num(n1):\n",
        "  sum = 0\n",
        "  if n1 > 1:\n",
        "    for i in range(1, n1):\n",
        "      n = i * i * i\n",
        "      sum += n\n",
        "  return sum\n",
        "\n",
        "n1 = int(input(\"Enter the number: \"))\n",
        "result = num(n1)\n",
        "print(result)\n",
        ""
      ],
      "metadata": {
        "colab": {
          "base_uri": "https://localhost:8080/"
        },
        "id": "1bmxaWWfqUIE",
        "outputId": "e0482ef3-d0cc-48f8-bd8b-603966bc3fc0"
      },
      "execution_count": 26,
      "outputs": [
        {
          "output_type": "stream",
          "name": "stdout",
          "text": [
            "Enter the number: 4\n",
            "36\n"
          ]
        }
      ]
    },
    {
      "cell_type": "code",
      "source": [
        "for i in range(1, 11):\n",
        "  if i % 2 == 0 and i % 5 == 0:\n",
        "    print(\"fizzbuzz\")\n",
        "  elif i % 2 == 0:\n",
        "    print(\"fizz\")\n",
        "  elif i % 5 == 0:\n",
        "    print(\"buzz\")\n",
        "  else:\n",
        "     print(i)"
      ],
      "metadata": {
        "colab": {
          "base_uri": "https://localhost:8080/"
        },
        "id": "Le6-t9o_tmBt",
        "outputId": "6a0319f4-fd3b-46e2-a83b-8da161e98cf2"
      },
      "execution_count": 31,
      "outputs": [
        {
          "output_type": "stream",
          "name": "stdout",
          "text": [
            "1\n",
            "fizz\n",
            "3\n",
            "fizz\n",
            "buzz\n",
            "fizz\n",
            "7\n",
            "fizz\n",
            "9\n",
            "fizzbuzz\n"
          ]
        }
      ]
    },
    {
      "cell_type": "code",
      "source": [
        "def most_frequent(numbers):\n",
        "  return max(set(numbers), key=numbers.count)\n",
        "numbers = [2, 3, 4, 2, 5, 2]\n",
        "most_frequent_item = most_frequent(numbers)\n",
        "print(most_frequent_item)\n"
      ],
      "metadata": {
        "colab": {
          "base_uri": "https://localhost:8080/"
        },
        "id": "ub8fhV2dvfHa",
        "outputId": "735fc643-1fb4-4e3e-e744-a24c4e782745"
      },
      "execution_count": 32,
      "outputs": [
        {
          "output_type": "stream",
          "name": "stdout",
          "text": [
            "2\n"
          ]
        }
      ]
    },
    {
      "cell_type": "code",
      "source": [
        "def sum_of_squares(numbers):\n",
        "  sum = 0\n",
        "  for number in numbers:\n",
        "    sum += number ** 2\n",
        "  return sum\n",
        "numbers = [2, 1, 3, 1]\n",
        "result = sum_of_squares(numbers)\n",
        "print(result)"
      ],
      "metadata": {
        "colab": {
          "base_uri": "https://localhost:8080/"
        },
        "id": "D07VxO5zxw9m",
        "outputId": "bf52d751-8eeb-4baf-ad0a-0fd3441ee7d7"
      },
      "execution_count": 33,
      "outputs": [
        {
          "output_type": "stream",
          "name": "stdout",
          "text": [
            "15\n"
          ]
        }
      ]
    },
    {
      "cell_type": "code",
      "source": [
        "for num in range(1, 16):\n",
        "  if num % 2 == 0:\n",
        "    print(f\"{num}-even\")\n",
        "  else:\n",
        "    print(f\"{num}-odd\")"
      ],
      "metadata": {
        "colab": {
          "base_uri": "https://localhost:8080/"
        },
        "id": "qaVzmUcUx_dF",
        "outputId": "fb41d1d3-daf6-40b3-cd5a-d0a10e8d52dd"
      },
      "execution_count": 34,
      "outputs": [
        {
          "output_type": "stream",
          "name": "stdout",
          "text": [
            "1-odd\n",
            "2-even\n",
            "3-odd\n",
            "4-even\n",
            "5-odd\n",
            "6-even\n",
            "7-odd\n",
            "8-even\n",
            "9-odd\n",
            "10-even\n",
            "11-odd\n",
            "12-even\n",
            "13-odd\n",
            "14-even\n",
            "15-odd\n"
          ]
        }
      ]
    },
    {
      "cell_type": "code",
      "source": [
        "def celsius_to_fahrenheit(celsius):\n",
        "  fahrenheit = (celsius * 9/5) + 32\n",
        "  return fahrenheit\n",
        "\n",
        "def fahrenheit_to_celsius(fahrenheit):\n",
        "  celsius = (fahrenheit - 32) * 5/9\n",
        "  return celsius\n",
        "\n",
        "fahrenheit = float(input(\"Temperature in Fahrenheit = \"))\n",
        "celsius = fahrenheit_to_celsius(fahrenheit)\n",
        "print(\"Temperature in Celsius =\", int(celsius))"
      ],
      "metadata": {
        "colab": {
          "base_uri": "https://localhost:8080/"
        },
        "id": "_8Y7AA_kyMw9",
        "outputId": "ba06c5b0-3705-4d25-d3ab-8f918e14a972"
      },
      "execution_count": 1,
      "outputs": [
        {
          "output_type": "stream",
          "name": "stdout",
          "text": [
            "Temperature in Fahrenheit = 41\n",
            "Temperature in Celsius = 5\n"
          ]
        }
      ]
    },
    {
      "cell_type": "code",
      "source": [
        "def factorial(n):\n",
        "  if n == 0:\n",
        "    return 1\n",
        "  else:\n",
        "    return n * factorial(n - 1)\n",
        "\n",
        "number = 3\n",
        "result = factorial(number)\n",
        "print(result)"
      ],
      "metadata": {
        "colab": {
          "base_uri": "https://localhost:8080/"
        },
        "id": "j_sQ_04Ny04Q",
        "outputId": "b77fc66e-a1a6-4834-a83b-82e4890d401b"
      },
      "execution_count": 2,
      "outputs": [
        {
          "output_type": "stream",
          "name": "stdout",
          "text": [
            "6\n"
          ]
        }
      ]
    },
    {
      "cell_type": "code",
      "source": [],
      "metadata": {
        "id": "_kQsCJVpy8Gl"
      },
      "execution_count": null,
      "outputs": []
    }
  ]
}